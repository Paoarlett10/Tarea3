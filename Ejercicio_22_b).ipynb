{
  "nbformat": 4,
  "nbformat_minor": 0,
  "metadata": {
    "colab": {
      "provenance": [],
      "authorship_tag": "ABX9TyO202sEKAJeOJIlfqihorxH",
      "include_colab_link": true
    },
    "kernelspec": {
      "name": "python3",
      "display_name": "Python 3"
    },
    "language_info": {
      "name": "python"
    }
  },
  "cells": [
    {
      "cell_type": "markdown",
      "metadata": {
        "id": "view-in-github",
        "colab_type": "text"
      },
      "source": [
        "<a href=\"https://colab.research.google.com/github/Paoarlett10/Tarea3/blob/main/Ejercicio_22_b).ipynb\" target=\"_parent\"><img src=\"https://colab.research.google.com/assets/colab-badge.svg\" alt=\"Open In Colab\"/></a>"
      ]
    },
    {
      "cell_type": "markdown",
      "source": [
        "# **Ejercicio 22**\n",
        "Nombre: Vazquez Jimenez Arlett Paola"
      ],
      "metadata": {
        "id": "jq5zb-MaUE7p"
      }
    },
    {
      "cell_type": "markdown",
      "source": [
        "22 b)"
      ],
      "metadata": {
        "id": "dRrUY6oNUEzB"
      }
    },
    {
      "cell_type": "code",
      "execution_count": 1,
      "metadata": {
        "colab": {
          "base_uri": "https://localhost:8080/"
        },
        "id": "9QljVf1hUAX3",
        "outputId": "1de6bddf-56f4-4215-9fb9-3bc9ef912cd1"
      },
      "outputs": [
        {
          "output_type": "stream",
          "name": "stdout",
          "text": [
            "\n",
            "Resultados de 1 / cos(θ_i):\n",
            "1 / cos(θ_16) = 4.183300\n",
            "1 / cos(θ_17) = 1.707825\n",
            "1 / cos(θ_18) = 1.707825\n",
            "1 / cos(θ_19) = 1.707825\n"
          ]
        }
      ],
      "source": [
        "import math\n",
        "\n",
        "# Matriz A\n",
        "A = [\n",
        "    [1, 1],\n",
        "    [-1, 0],\n",
        "    [0, 1],\n",
        "    [1, 0]\n",
        "]\n",
        "\n",
        "# Vector b\n",
        "b = [-1, 2, -1, 1]\n",
        "\n",
        "# Producto punto\n",
        "def ProductoPunto(u, v):\n",
        "    return sum(ui * vi for ui, vi in zip(u, v))\n",
        "\n",
        "# Norma euclidiana\n",
        "def NormaEuclidiana(v):\n",
        "    return math.sqrt(ProductoPunto(v, v))\n",
        "\n",
        "# Producto matriz por vector\n",
        "def MatrizPorVector(A, x):\n",
        "    return [ProductoPunto(row, x) for row in A]\n",
        "\n",
        "# Soluciones del inciso 16-19\n",
        "x_soluciones = [\n",
        "    [-2, 1],       #MR\n",
        "    [-0.4, -0.8],  #Normal\n",
        "    [-0.4, -0.8],  #Householder\n",
        "    [-0.4, -0.8],  #Givens\n",
        "]\n",
        "\n",
        "# Cálculo de 1 / cos(θ_i)\n",
        "print(\"\\nResultados de 1 / cos(θ_i):\")\n",
        "for i, x in enumerate(x_soluciones, start=16):\n",
        "    b_tilde = MatrizPorVector(A, x)\n",
        "    Numerador = NormaEuclidiana(b) * NormaEuclidiana(b_tilde)\n",
        "    Denominador = ProductoPunto(b, b_tilde)\n",
        "    if Denominador == 0:\n",
        "        print(f\"θ_{i} es 90°, división por cero.\")\n",
        "    else:\n",
        "        inversa_cos = Numerador / Denominador\n",
        "        print(f\"1 / cos(θ_{i}) = {inversa_cos:.6f}\")"
      ]
    }
  ]
}