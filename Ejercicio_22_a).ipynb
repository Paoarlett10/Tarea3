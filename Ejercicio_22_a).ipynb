{
  "nbformat": 4,
  "nbformat_minor": 0,
  "metadata": {
    "colab": {
      "provenance": [],
      "authorship_tag": "ABX9TyMA0LqWFDA+VGIw94O5a7RP",
      "include_colab_link": true
    },
    "kernelspec": {
      "name": "python3",
      "display_name": "Python 3"
    },
    "language_info": {
      "name": "python"
    }
  },
  "cells": [
    {
      "cell_type": "markdown",
      "metadata": {
        "id": "view-in-github",
        "colab_type": "text"
      },
      "source": [
        "<a href=\"https://colab.research.google.com/github/Paoarlett10/Tarea3/blob/main/Ejercicio_22_a).ipynb\" target=\"_parent\"><img src=\"https://colab.research.google.com/assets/colab-badge.svg\" alt=\"Open In Colab\"/></a>"
      ]
    },
    {
      "cell_type": "markdown",
      "source": [
        "# **Ejercicio 22**\n",
        "Nombre: Vazquez Jimenez Arlett Paola\n",
        "\n",
        "\n"
      ],
      "metadata": {
        "id": "kNr-DOog_1nP"
      }
    },
    {
      "cell_type": "markdown",
      "source": [
        "22 a)\n"
      ],
      "metadata": {
        "id": "lD5e4H05_Fix"
      }
    },
    {
      "cell_type": "code",
      "execution_count": 12,
      "metadata": {
        "colab": {
          "base_uri": "https://localhost:8080/"
        },
        "id": "zMJA_AKr--q6",
        "outputId": "d5e71d90-5968-4cdf-b0b9-f840b01a8de9"
      },
      "outputs": [
        {
          "output_type": "stream",
          "name": "stdout",
          "text": [
            "Cond(A): 1.6180339887498945\n",
            "La matriz está bien condicionada.\n"
          ]
        }
      ],
      "source": [
        "import numpy as np\n",
        "\n",
        "A = np.array([\n",
        "    [1, 1],\n",
        "    [-1, 0],\n",
        "    [0, 1],\n",
        "    [1, 0]\n",
        "], dtype=float)\n",
        "\n",
        "Cond_A = np.linalg.cond(A, 2)\n",
        "print(\"Cond(A):\", Cond_A)\n",
        "if Cond_A > 1000:\n",
        "    print(\"La matriz está mal condicionada.\")\n",
        "else:\n",
        "    print(\"La matriz está bien condicionada.\")\n"
      ]
    }
  ]
}